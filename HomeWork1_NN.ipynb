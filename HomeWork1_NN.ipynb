{
 "cells": [
  {
   "cell_type": "code",
   "execution_count": 71,
   "metadata": {
    "id": "OynMETv9Dmvf"
   },
   "outputs": [],
   "source": [
    "from sklearn.neural_network import MLPClassifier\n",
    "from sklearn.metrics import accuracy_score\n",
    "import numpy as np"
   ]
  },
  {
   "cell_type": "code",
   "execution_count": 72,
   "metadata": {
    "id": "UDp_NhE-IpWx"
   },
   "outputs": [],
   "source": [
    "# Определим тренировочный набор данных\n",
    "data_train = np.array([\n",
    "  [-2, -1],  # Алиса\n",
    "  [25, 6],   # Боб\n",
    "  [17, 4],   # Чарли\n",
    "  [-15, -6], # Диана\n",
    "])\n",
    "all_y_trues_train = np.array([\n",
    "  1, # Алиса\n",
    "  0, # Боб\n",
    "  0, # Чарли\n",
    "  1, # Диана\n",
    "])\n"
   ]
  },
  {
   "cell_type": "code",
   "execution_count": 73,
   "metadata": {},
   "outputs": [],
   "source": [
    "# Определим тестовый набор данных\n",
    "data_test = np.array([\n",
    "  [-4, -2],  # Мария\n",
    "  [15, 3],   # Василий\n",
    "  [21, 3],   # Иван\n",
    "  [-10, -3], # Анна\n",
    "])\n",
    "all_y_trues_test = np.array([\n",
    "  1, # Мария\n",
    "  0, # Василий\n",
    "  0, # Иван\n",
    "  1, # Анна\n",
    "])\n"
   ]
  },
  {
   "cell_type": "code",
   "execution_count": 81,
   "metadata": {},
   "outputs": [],
   "source": [
    "# Определение модели\n",
    "\n",
    "mlp = MLPClassifier(hidden_layer_sizes=(5),        # количество внутренних слоев\n",
    "\tmax_iter=5000,                                 # количество эпох\n",
    ")"
   ]
  },
  {
   "cell_type": "code",
   "execution_count": 87,
   "metadata": {},
   "outputs": [
    {
     "name": "stdout",
     "output_type": "stream",
     "text": [
      "Training set score: 100.000%\n",
      "Testing set score: 100.000%\n",
      "\n"
     ]
    }
   ],
   "source": [
    "# Обучение модели\n",
    "\n",
    "mlp.fit(data_train, all_y_trues_train)\n",
    "\n",
    "print(f\"Training set score: {mlp.score(data_train, all_y_trues_train):.3%}\")\n",
    "print(f\"Testing set score: {mlp.score(data_test, all_y_trues_test):.3%}\\n\")"
   ]
  },
  {
   "cell_type": "code",
   "execution_count": 91,
   "metadata": {},
   "outputs": [
    {
     "name": "stdout",
     "output_type": "stream",
     "text": [
      "Name: Степан - М\n",
      "Name: Ангелина - Ж\n",
      "Name: Фёдор - М\n",
      "Name: Ева - Ж\n",
      "Name: Семён - М\n",
      "Name: Татьяна - Ж\n",
      "Name: Павел - М\n",
      "Name: Елена - Ж\n",
      "Name: Александр - М\n",
      "Name: Ольга - Ж\n"
     ]
    }
   ],
   "source": [
    "y_predict = []\n",
    "true_values = ['М', 'Ж', 'М', 'Ж', 'М', 'Ж', 'М', 'Ж', 'М', 'Ж']\n",
    "features_list=[\n",
    "    {\"features\": [[5, 8]], \"name\": \"Степан\"},\n",
    "    {\"features\": [[-3, -6]], \"name\": \"Ангелина\"},\n",
    "    {\"features\": [[15, 13]], \"name\": \"Фёдор\"},\n",
    "    {\"features\": [[-13, -2]], \"name\": \"Ева\"},\n",
    "    {\"features\": [[8, 2]], \"name\": \"Семён\"},\n",
    "    {\"features\": [[-13, -1]], \"name\": \"Татьяна\"},\n",
    "    {\"features\": [[7, 7]], \"name\": \"Павел\"},\n",
    "    {\"features\": [[-3, -3]], \"name\": \"Елена\"},\n",
    "    {\"features\": [[11, 2]], \"name\": \"Александр\"},\n",
    "    {\"features\": [[-1, -1]], \"name\": \"Ольга\"}\n",
    "]\n",
    "\n",
    "for item in features_list:\n",
    "    print(f\"Name: {item['name']} - \", end='')\n",
    "\n",
    "    if mlp.predict(item[\"features\"]) == 1:\n",
    "        y_predict.append('Ж')\n",
    "        print(\"Ж\")\n",
    "    else:\n",
    "        y_predict.append('М')\n",
    "        print(\"М\")"
   ]
  },
  {
   "cell_type": "code",
   "execution_count": 92,
   "metadata": {},
   "outputs": [
    {
     "name": "stdout",
     "output_type": "stream",
     "text": [
      "1.0\n"
     ]
    }
   ],
   "source": [
    "# Классификационная оценка точности\n",
    "\n",
    "print(accuracy_score(true_values, y_predict))"
   ]
  },
  {
   "cell_type": "code",
   "execution_count": null,
   "metadata": {},
   "outputs": [],
   "source": []
  }
 ],
 "metadata": {
  "colab": {
   "provenance": []
  },
  "kernelspec": {
   "display_name": "Python 3 (ipykernel)",
   "language": "python",
   "name": "python3"
  },
  "language_info": {
   "codemirror_mode": {
    "name": "ipython",
    "version": 3
   },
   "file_extension": ".py",
   "mimetype": "text/x-python",
   "name": "python",
   "nbconvert_exporter": "python",
   "pygments_lexer": "ipython3",
   "version": "3.9.13"
  }
 },
 "nbformat": 4,
 "nbformat_minor": 1
}
