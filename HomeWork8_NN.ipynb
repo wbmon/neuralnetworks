{
 "cells": [
  {
   "cell_type": "markdown",
   "id": "83b1da92",
   "metadata": {},
   "source": [
    "### Прогноз стоимости домов для набора данных Boston Housing. Пример решения задачи регрессии. ###"
   ]
  },
  {
   "cell_type": "code",
   "execution_count": 1,
   "id": "33122072",
   "metadata": {},
   "outputs": [],
   "source": [
    "from keras.datasets import boston_housing\n",
    "from keras.models import Sequential\n",
    "from keras.layers import Dense"
   ]
  },
  {
   "cell_type": "markdown",
   "id": "2f5eea39",
   "metadata": {},
   "source": [
    "Загрузка набора данных"
   ]
  },
  {
   "cell_type": "code",
   "execution_count": 2,
   "id": "8ea093fa",
   "metadata": {},
   "outputs": [
    {
     "name": "stdout",
     "output_type": "stream",
     "text": [
      "Downloading data from https://storage.googleapis.com/tensorflow/tf-keras-datasets/boston_housing.npz\n",
      "57026/57026 [==============================] - 0s 3us/step\n"
     ]
    }
   ],
   "source": [
    "(x_train, y_train), (x_test, y_test) = boston_housing.load_data()"
   ]
  },
  {
   "cell_type": "markdown",
   "id": "086076a9",
   "metadata": {},
   "source": [
    "Нормализация данных"
   ]
  },
  {
   "cell_type": "code",
   "execution_count": 3,
   "id": "03a499e0",
   "metadata": {},
   "outputs": [],
   "source": [
    "mean = x_train.mean(axis=0)\n",
    "std = x_train.std(axis=0)\n",
    "x_train -= mean\n",
    "x_train /= std\n",
    "x_test -= mean\n",
    "x_test /= std"
   ]
  },
  {
   "cell_type": "markdown",
   "id": "a4dd2e75",
   "metadata": {},
   "source": [
    "Создаем сеть"
   ]
  },
  {
   "cell_type": "code",
   "execution_count": 4,
   "id": "85483f44",
   "metadata": {},
   "outputs": [],
   "source": [
    "model = Sequential()\n",
    "model.add(Dense(128, activation='relu', input_shape=(x_train.shape[1],)))\n",
    "model.add(Dense(1))\n",
    "model.compile(optimizer='adam', loss='mse', metrics=['mae'])"
   ]
  },
  {
   "cell_type": "code",
   "execution_count": 8,
   "id": "1d1b4ef8",
   "metadata": {},
   "outputs": [
    {
     "name": "stdout",
     "output_type": "stream",
     "text": [
      "Model: \"sequential\"\n",
      "_________________________________________________________________\n",
      " Layer (type)                Output Shape              Param #   \n",
      "=================================================================\n",
      " dense (Dense)               (None, 128)               1792      \n",
      "                                                                 \n",
      " dense_1 (Dense)             (None, 1)                 129       \n",
      "                                                                 \n",
      "=================================================================\n",
      "Total params: 1,921\n",
      "Trainable params: 1,921\n",
      "Non-trainable params: 0\n",
      "_________________________________________________________________\n"
     ]
    }
   ],
   "source": [
    "model.summary()"
   ]
  },
  {
   "cell_type": "markdown",
   "id": "d03a04e0",
   "metadata": {},
   "source": [
    "Обучение сети"
   ]
  },
  {
   "cell_type": "code",
   "execution_count": 5,
   "id": "67625157",
   "metadata": {},
   "outputs": [
    {
     "name": "stdout",
     "output_type": "stream",
     "text": [
      "Epoch 1/100\n",
      "404/404 - 2s - loss: 315.5027 - mae: 14.8504 - 2s/epoch - 4ms/step\n",
      "Epoch 2/100\n",
      "404/404 - 0s - loss: 43.7668 - mae: 4.5134 - 342ms/epoch - 846us/step\n",
      "Epoch 3/100\n",
      "404/404 - 0s - loss: 27.0441 - mae: 3.4817 - 332ms/epoch - 822us/step\n",
      "Epoch 4/100\n",
      "404/404 - 0s - loss: 22.3217 - mae: 3.2646 - 311ms/epoch - 769us/step\n",
      "Epoch 5/100\n",
      "404/404 - 0s - loss: 19.4126 - mae: 3.0889 - 318ms/epoch - 788us/step\n",
      "Epoch 6/100\n",
      "404/404 - 0s - loss: 16.9464 - mae: 2.8730 - 313ms/epoch - 775us/step\n",
      "Epoch 7/100\n",
      "404/404 - 0s - loss: 14.7363 - mae: 2.7052 - 317ms/epoch - 785us/step\n",
      "Epoch 8/100\n",
      "404/404 - 0s - loss: 13.0065 - mae: 2.5316 - 312ms/epoch - 773us/step\n",
      "Epoch 9/100\n",
      "404/404 - 0s - loss: 11.9333 - mae: 2.3930 - 313ms/epoch - 776us/step\n",
      "Epoch 10/100\n",
      "404/404 - 0s - loss: 10.9404 - mae: 2.3823 - 314ms/epoch - 777us/step\n",
      "Epoch 11/100\n",
      "404/404 - 0s - loss: 10.7028 - mae: 2.2577 - 319ms/epoch - 788us/step\n",
      "Epoch 12/100\n",
      "404/404 - 0s - loss: 9.9209 - mae: 2.2413 - 312ms/epoch - 773us/step\n",
      "Epoch 13/100\n",
      "404/404 - 0s - loss: 9.6198 - mae: 2.2014 - 311ms/epoch - 769us/step\n",
      "Epoch 14/100\n",
      "404/404 - 0s - loss: 9.4902 - mae: 2.1889 - 303ms/epoch - 751us/step\n",
      "Epoch 15/100\n",
      "404/404 - 0s - loss: 8.8500 - mae: 2.0958 - 302ms/epoch - 748us/step\n",
      "Epoch 16/100\n",
      "404/404 - 0s - loss: 8.7965 - mae: 2.0866 - 300ms/epoch - 742us/step\n",
      "Epoch 17/100\n",
      "404/404 - 0s - loss: 8.3559 - mae: 2.0440 - 303ms/epoch - 749us/step\n",
      "Epoch 18/100\n",
      "404/404 - 0s - loss: 8.4151 - mae: 2.0168 - 306ms/epoch - 758us/step\n",
      "Epoch 19/100\n",
      "404/404 - 0s - loss: 8.2675 - mae: 2.0457 - 307ms/epoch - 760us/step\n",
      "Epoch 20/100\n",
      "404/404 - 0s - loss: 8.3153 - mae: 2.0299 - 300ms/epoch - 744us/step\n",
      "Epoch 21/100\n",
      "404/404 - 0s - loss: 7.9823 - mae: 1.9823 - 302ms/epoch - 747us/step\n",
      "Epoch 22/100\n",
      "404/404 - 0s - loss: 7.9127 - mae: 2.0063 - 301ms/epoch - 745us/step\n",
      "Epoch 23/100\n",
      "404/404 - 0s - loss: 7.4018 - mae: 1.9452 - 305ms/epoch - 756us/step\n",
      "Epoch 24/100\n",
      "404/404 - 0s - loss: 7.6883 - mae: 1.9740 - 306ms/epoch - 757us/step\n",
      "Epoch 25/100\n",
      "404/404 - 0s - loss: 7.5093 - mae: 1.9398 - 303ms/epoch - 749us/step\n",
      "Epoch 26/100\n",
      "404/404 - 0s - loss: 7.5449 - mae: 1.9655 - 305ms/epoch - 755us/step\n",
      "Epoch 27/100\n",
      "404/404 - 0s - loss: 7.4529 - mae: 1.9439 - 311ms/epoch - 770us/step\n",
      "Epoch 28/100\n",
      "404/404 - 0s - loss: 7.4071 - mae: 1.9085 - 312ms/epoch - 773us/step\n",
      "Epoch 29/100\n",
      "404/404 - 0s - loss: 7.0958 - mae: 1.8947 - 310ms/epoch - 768us/step\n",
      "Epoch 30/100\n",
      "404/404 - 0s - loss: 7.0184 - mae: 1.9105 - 306ms/epoch - 758us/step\n",
      "Epoch 31/100\n",
      "404/404 - 0s - loss: 7.1241 - mae: 1.9025 - 306ms/epoch - 758us/step\n",
      "Epoch 32/100\n",
      "404/404 - 0s - loss: 6.9066 - mae: 1.8648 - 314ms/epoch - 777us/step\n",
      "Epoch 33/100\n",
      "404/404 - 0s - loss: 6.8918 - mae: 1.8776 - 308ms/epoch - 761us/step\n",
      "Epoch 34/100\n",
      "404/404 - 0s - loss: 6.6157 - mae: 1.8228 - 307ms/epoch - 761us/step\n",
      "Epoch 35/100\n",
      "404/404 - 0s - loss: 6.6505 - mae: 1.8069 - 307ms/epoch - 759us/step\n",
      "Epoch 36/100\n",
      "404/404 - 0s - loss: 6.6703 - mae: 1.8530 - 307ms/epoch - 761us/step\n",
      "Epoch 37/100\n",
      "404/404 - 0s - loss: 6.5458 - mae: 1.7967 - 304ms/epoch - 753us/step\n",
      "Epoch 38/100\n",
      "404/404 - 0s - loss: 6.7134 - mae: 1.8816 - 308ms/epoch - 762us/step\n",
      "Epoch 39/100\n",
      "404/404 - 0s - loss: 6.4327 - mae: 1.7871 - 305ms/epoch - 756us/step\n",
      "Epoch 40/100\n",
      "404/404 - 0s - loss: 6.4296 - mae: 1.8004 - 308ms/epoch - 763us/step\n",
      "Epoch 41/100\n",
      "404/404 - 0s - loss: 6.3603 - mae: 1.7683 - 301ms/epoch - 745us/step\n",
      "Epoch 42/100\n",
      "404/404 - 0s - loss: 6.0478 - mae: 1.7461 - 305ms/epoch - 756us/step\n",
      "Epoch 43/100\n",
      "404/404 - 0s - loss: 6.0610 - mae: 1.7527 - 311ms/epoch - 769us/step\n",
      "Epoch 44/100\n",
      "404/404 - 0s - loss: 6.0625 - mae: 1.7504 - 317ms/epoch - 786us/step\n",
      "Epoch 45/100\n",
      "404/404 - 0s - loss: 6.0110 - mae: 1.7301 - 313ms/epoch - 775us/step\n",
      "Epoch 46/100\n",
      "404/404 - 0s - loss: 5.9694 - mae: 1.7180 - 316ms/epoch - 782us/step\n",
      "Epoch 47/100\n",
      "404/404 - 0s - loss: 6.1378 - mae: 1.7362 - 316ms/epoch - 783us/step\n",
      "Epoch 48/100\n",
      "404/404 - 0s - loss: 5.8880 - mae: 1.6893 - 313ms/epoch - 775us/step\n",
      "Epoch 49/100\n",
      "404/404 - 0s - loss: 5.5639 - mae: 1.6616 - 318ms/epoch - 786us/step\n",
      "Epoch 50/100\n",
      "404/404 - 0s - loss: 5.8563 - mae: 1.7203 - 312ms/epoch - 773us/step\n",
      "Epoch 51/100\n",
      "404/404 - 0s - loss: 6.0730 - mae: 1.7790 - 313ms/epoch - 774us/step\n",
      "Epoch 52/100\n",
      "404/404 - 0s - loss: 5.6886 - mae: 1.6969 - 311ms/epoch - 769us/step\n",
      "Epoch 53/100\n",
      "404/404 - 0s - loss: 5.7131 - mae: 1.7117 - 304ms/epoch - 753us/step\n",
      "Epoch 54/100\n",
      "404/404 - 0s - loss: 5.6123 - mae: 1.6940 - 305ms/epoch - 754us/step\n",
      "Epoch 55/100\n",
      "404/404 - 0s - loss: 5.6323 - mae: 1.6637 - 308ms/epoch - 763us/step\n",
      "Epoch 56/100\n",
      "404/404 - 0s - loss: 5.5094 - mae: 1.6413 - 309ms/epoch - 765us/step\n",
      "Epoch 57/100\n",
      "404/404 - 0s - loss: 5.3934 - mae: 1.6438 - 307ms/epoch - 760us/step\n",
      "Epoch 58/100\n",
      "404/404 - 0s - loss: 5.4269 - mae: 1.6677 - 304ms/epoch - 753us/step\n",
      "Epoch 59/100\n",
      "404/404 - 0s - loss: 5.4185 - mae: 1.6528 - 289ms/epoch - 715us/step\n",
      "Epoch 60/100\n",
      "404/404 - 0s - loss: 5.6625 - mae: 1.6593 - 285ms/epoch - 706us/step\n",
      "Epoch 61/100\n",
      "404/404 - 0s - loss: 5.2630 - mae: 1.6070 - 295ms/epoch - 730us/step\n",
      "Epoch 62/100\n",
      "404/404 - 0s - loss: 5.4548 - mae: 1.6692 - 306ms/epoch - 758us/step\n",
      "Epoch 63/100\n",
      "404/404 - 0s - loss: 5.2528 - mae: 1.6424 - 317ms/epoch - 784us/step\n",
      "Epoch 64/100\n",
      "404/404 - 0s - loss: 5.4377 - mae: 1.6813 - 317ms/epoch - 785us/step\n",
      "Epoch 65/100\n",
      "404/404 - 0s - loss: 5.3290 - mae: 1.6271 - 317ms/epoch - 785us/step\n",
      "Epoch 66/100\n",
      "404/404 - 0s - loss: 5.0868 - mae: 1.5976 - 318ms/epoch - 786us/step\n",
      "Epoch 67/100\n",
      "404/404 - 0s - loss: 5.1230 - mae: 1.5800 - 316ms/epoch - 783us/step\n",
      "Epoch 68/100\n",
      "404/404 - 0s - loss: 5.0802 - mae: 1.6159 - 310ms/epoch - 768us/step\n",
      "Epoch 69/100\n",
      "404/404 - 0s - loss: 5.2090 - mae: 1.5929 - 310ms/epoch - 768us/step\n",
      "Epoch 70/100\n",
      "404/404 - 0s - loss: 5.2281 - mae: 1.6275 - 305ms/epoch - 754us/step\n",
      "Epoch 71/100\n",
      "404/404 - 0s - loss: 5.1087 - mae: 1.5951 - 302ms/epoch - 747us/step\n",
      "Epoch 72/100\n",
      "404/404 - 0s - loss: 4.9695 - mae: 1.5709 - 308ms/epoch - 761us/step\n",
      "Epoch 73/100\n",
      "404/404 - 0s - loss: 5.1250 - mae: 1.6006 - 310ms/epoch - 767us/step\n",
      "Epoch 74/100\n",
      "404/404 - 0s - loss: 4.8652 - mae: 1.5624 - 306ms/epoch - 758us/step\n",
      "Epoch 75/100\n",
      "404/404 - 0s - loss: 4.9265 - mae: 1.5881 - 306ms/epoch - 758us/step\n",
      "Epoch 76/100\n",
      "404/404 - 0s - loss: 4.6492 - mae: 1.5496 - 308ms/epoch - 763us/step\n",
      "Epoch 77/100\n",
      "404/404 - 0s - loss: 4.9519 - mae: 1.5980 - 303ms/epoch - 749us/step\n",
      "Epoch 78/100\n",
      "404/404 - 0s - loss: 5.0718 - mae: 1.6186 - 303ms/epoch - 749us/step\n",
      "Epoch 79/100\n",
      "404/404 - 0s - loss: 4.8290 - mae: 1.5504 - 319ms/epoch - 789us/step\n",
      "Epoch 80/100\n",
      "404/404 - 0s - loss: 4.7595 - mae: 1.5576 - 316ms/epoch - 782us/step\n",
      "Epoch 81/100\n",
      "404/404 - 0s - loss: 4.8564 - mae: 1.5553 - 317ms/epoch - 784us/step\n",
      "Epoch 82/100\n",
      "404/404 - 0s - loss: 4.8311 - mae: 1.5696 - 319ms/epoch - 789us/step\n",
      "Epoch 83/100\n",
      "404/404 - 0s - loss: 4.8689 - mae: 1.5468 - 314ms/epoch - 778us/step\n",
      "Epoch 84/100\n",
      "404/404 - 0s - loss: 4.7957 - mae: 1.5039 - 307ms/epoch - 759us/step\n",
      "Epoch 85/100\n",
      "404/404 - 0s - loss: 4.6720 - mae: 1.5476 - 306ms/epoch - 758us/step\n",
      "Epoch 86/100\n",
      "404/404 - 0s - loss: 4.5962 - mae: 1.5116 - 300ms/epoch - 743us/step\n",
      "Epoch 87/100\n",
      "404/404 - 0s - loss: 4.5753 - mae: 1.5176 - 306ms/epoch - 756us/step\n",
      "Epoch 88/100\n",
      "404/404 - 0s - loss: 4.4364 - mae: 1.4678 - 306ms/epoch - 756us/step\n",
      "Epoch 89/100\n",
      "404/404 - 0s - loss: 4.5861 - mae: 1.4983 - 313ms/epoch - 774us/step\n",
      "Epoch 90/100\n",
      "404/404 - 0s - loss: 4.6286 - mae: 1.5301 - 287ms/epoch - 711us/step\n",
      "Epoch 91/100\n",
      "404/404 - 0s - loss: 4.5290 - mae: 1.4833 - 295ms/epoch - 730us/step\n",
      "Epoch 92/100\n",
      "404/404 - 0s - loss: 4.5261 - mae: 1.5174 - 312ms/epoch - 773us/step\n",
      "Epoch 93/100\n",
      "404/404 - 0s - loss: 4.4907 - mae: 1.4901 - 316ms/epoch - 781us/step\n",
      "Epoch 94/100\n",
      "404/404 - 0s - loss: 4.2155 - mae: 1.4089 - 298ms/epoch - 739us/step\n",
      "Epoch 95/100\n",
      "404/404 - 0s - loss: 4.5022 - mae: 1.5008 - 315ms/epoch - 781us/step\n",
      "Epoch 96/100\n",
      "404/404 - 0s - loss: 4.4147 - mae: 1.4841 - 310ms/epoch - 768us/step\n",
      "Epoch 97/100\n",
      "404/404 - 0s - loss: 4.1737 - mae: 1.4314 - 303ms/epoch - 750us/step\n",
      "Epoch 98/100\n",
      "404/404 - 0s - loss: 4.1684 - mae: 1.4742 - 305ms/epoch - 756us/step\n",
      "Epoch 99/100\n",
      "404/404 - 0s - loss: 4.1906 - mae: 1.4596 - 308ms/epoch - 761us/step\n",
      "Epoch 100/100\n",
      "404/404 - 0s - loss: 4.3393 - mae: 1.4703 - 304ms/epoch - 752us/step\n"
     ]
    },
    {
     "data": {
      "text/plain": [
       "<keras.callbacks.History at 0x264208cdb20>"
      ]
     },
     "execution_count": 5,
     "metadata": {},
     "output_type": "execute_result"
    }
   ],
   "source": [
    "model.fit(x_train, y_train, epochs=100, batch_size=1, verbose=2)"
   ]
  },
  {
   "cell_type": "markdown",
   "id": "c9e8489c",
   "metadata": {},
   "source": [
    "Оценка точности работы сети"
   ]
  },
  {
   "cell_type": "code",
   "execution_count": 6,
   "id": "ba4ba0d9",
   "metadata": {},
   "outputs": [
    {
     "name": "stdout",
     "output_type": "stream",
     "text": [
      "Средняя абсолютная ошибка (тысяч долларов): 2.3541510105133057\n"
     ]
    }
   ],
   "source": [
    "mse, mae = model.evaluate(x_test, y_test, verbose=0)\n",
    "print(\"Средняя абсолютная ошибка (тысяч долларов):\", mae)"
   ]
  },
  {
   "cell_type": "markdown",
   "id": "ef8ba784",
   "metadata": {},
   "source": [
    "Использование сети для предсказания цен недвижимости"
   ]
  },
  {
   "cell_type": "code",
   "execution_count": 7,
   "id": "9b31d0cc",
   "metadata": {},
   "outputs": [
    {
     "name": "stdout",
     "output_type": "stream",
     "text": [
      "4/4 [==============================] - 0s 2ms/step\n",
      "Предсказанная стоимость: 17.966932 , правильная стоимость: 18.8\n"
     ]
    }
   ],
   "source": [
    "pred = model.predict(x_test)\n",
    "print(\"Предсказанная стоимость:\", pred[1][0], \", правильная стоимость:\", y_test[1])"
   ]
  },
  {
   "cell_type": "code",
   "execution_count": null,
   "id": "074936c0",
   "metadata": {},
   "outputs": [],
   "source": []
  }
 ],
 "metadata": {
  "kernelspec": {
   "display_name": "Python 3 (ipykernel)",
   "language": "python",
   "name": "python3"
  },
  "language_info": {
   "codemirror_mode": {
    "name": "ipython",
    "version": 3
   },
   "file_extension": ".py",
   "mimetype": "text/x-python",
   "name": "python",
   "nbconvert_exporter": "python",
   "pygments_lexer": "ipython3",
   "version": "3.9.13"
  }
 },
 "nbformat": 4,
 "nbformat_minor": 5
}
